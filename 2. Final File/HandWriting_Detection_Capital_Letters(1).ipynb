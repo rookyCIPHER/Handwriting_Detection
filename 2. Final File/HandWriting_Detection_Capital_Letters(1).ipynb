{
  "cells": [
    {
      "cell_type": "markdown",
      "metadata": {
        "id": "YCSVzDkCXaC3"
      },
      "source": [
        "First of all giving permission to google colab so that it can access the files "
      ]
    },
    {
      "cell_type": "code",
      "execution_count": null,
      "metadata": {
        "id": "QAF3e66QyJhR",
        "colab": {
          "base_uri": "https://localhost:8080/"
        },
        "outputId": "b6207a1e-e052-4e92-f6ba-e4544dd9fddf"
      },
      "outputs": [
        {
          "output_type": "stream",
          "name": "stdout",
          "text": [
            "Mounted at /content/drive\n",
            "/content/drive/MyDrive\n"
          ]
        }
      ],
      "source": [
        "from google.colab import drive\n",
        "drive.mount('/content/drive')\n",
        "%cd /content/drive/MyDrive"
      ]
    },
    {
      "cell_type": "code",
      "execution_count": null,
      "metadata": {
        "id": "Xd5eKVLcFoiL"
      },
      "outputs": [],
      "source": [
        "import csv"
      ]
    },
    {
      "cell_type": "markdown",
      "metadata": {
        "id": "KCIIPOEwQhYU"
      },
      "source": [
        "Reading the data\n"
      ]
    },
    {
      "cell_type": "code",
      "execution_count": null,
      "metadata": {
        "id": "0hlu1l2NFFWs"
      },
      "outputs": [],
      "source": [
        "#Dividing the data in test and training data but first getting total number of rows, then only adding 90% of it to training data.\n",
        "data=[]\n",
        "number_of_rows=0\n",
        "with open('A_Z Handwritten Data.csv', newline='') as csvfile:\n",
        "    reader = csv.reader(csvfile)\n",
        "    for row in reader:\n",
        "      number_of_rows+=1\n",
        "      data.append(list(row))"
      ]
    },
    {
      "cell_type": "markdown",
      "metadata": {
        "id": "WbOUs3sXck_5"
      },
      "source": [
        "Segregating the data"
      ]
    },
    {
      "cell_type": "code",
      "execution_count": null,
      "metadata": {
        "id": "w2eY7fMqSMLh"
      },
      "outputs": [],
      "source": [
        "# segregating the read data\n",
        "# train_data=[]\n",
        "# test_data=[]\n",
        "# counter=0\n",
        "# for i in data:\n",
        "#   counter+=1\n",
        "#   if counter<=(0.9*number_of_rows):\n",
        "#     train_data.append(i)\n",
        "#   else: \n",
        "#     test_data.append(i)\n",
        "\n",
        "#THIS IS COMMENTED OUT FOR THE REASON EXPLAINED IN BELOW COMMENTS"
      ]
    },
    {
      "cell_type": "code",
      "execution_count": null,
      "metadata": {
        "id": "SnvsfEJDRO-2"
      },
      "outputs": [],
      "source": [
        "# #Now the next step is to calculate p(y=k) where k belongs to [0,25]\n",
        "# dict1={}\n",
        "# counter_list=[]  \n",
        "# #will store the first column of each row and then we will use counter to count number of times a particular one appears and then divide by total number to get probability by favourable/total\n",
        "\n",
        "# for i in train_data:\n",
        "#   counter_list.append(i[0])\n",
        "\n",
        "# #Now our next step is to assign the number and the probability of each as key value pair in dictionary, we are using dictionary because it uses hash mapping ang take less time to fetch data\n",
        "# counter_set=set(counter_list)   #just to remove the duplicates and see all the labels that have been covered in the training data\n",
        "# print(counter_set)\n",
        "# #OUTPUT=['0', '1', '10', '11', '12', '13', '14', '15', '16', '17', '18', '19', '2', '20', '21', '3', '4', '5', '6', '7', '8', '9']\n",
        "# #so we can see if we use training data then not all the labels between 0 to 25 are covered. So for calculating P(Y=k) we need to first shuffle the data and then segregate it and that's why above part was commented out"
      ]
    },
    {
      "cell_type": "code",
      "execution_count": null,
      "metadata": {
        "id": "xlJjCa66be7K"
      },
      "outputs": [],
      "source": [
        "import random\n",
        "random.shuffle(data)"
      ]
    },
    {
      "cell_type": "code",
      "execution_count": null,
      "metadata": {
        "id": "S7y8gwYrbkcq"
      },
      "outputs": [],
      "source": [
        "#segregating the read data\n",
        "train_data=[]\n",
        "test_data=[]\n",
        "counter=0\n",
        "for i in data:\n",
        "  counter+=1\n",
        "  if counter<=(0.9*number_of_rows):\n",
        "    train_data.append(i)\n",
        "  else: \n",
        "    test_data.append(i)"
      ]
    },
    {
      "cell_type": "markdown",
      "metadata": {
        "id": "R1_ZF7TOcopL"
      },
      "source": [
        "Calculation P(Y=k)"
      ]
    },
    {
      "cell_type": "code",
      "execution_count": null,
      "metadata": {
        "id": "C7pxjodkbsou"
      },
      "outputs": [],
      "source": [
        "#Now the next step is to calculate p(y=k) where k belongs to [0,25]\n",
        "dict1={}\n",
        "counter_list=[]  \n",
        "dict1_counter={}\n",
        "#will store the first column of each row and then we will use counter to count number of times a particular one appears and then divide by total number to get probability by favourable/total\n",
        "\n",
        "for i in train_data:\n",
        "  counter_list.append(i[0])\n",
        "\n",
        "#Now our next step is to assign the number and the probability of each as key value pair in dictionary, we are using dictionary because it uses hash mapping ang take less time to fetch data\n",
        "counter_set=set(counter_list)   #just to remove the duplicates and see all the labels that have been covered in the training data. These will help in adding keys to the dictionary"
      ]
    },
    {
      "cell_type": "code",
      "execution_count": null,
      "metadata": {
        "id": "iLtfSPcKcRtf"
      },
      "outputs": [],
      "source": [
        "#Calculating P(y=k) and adding to dictionary\n",
        "for i in counter_set:\n",
        "  probability_count=counter_list.count(i)\n",
        "  dict1[i]=probability_count/len(train_data)\n",
        "  dict1_counter[i]=probability_count"
      ]
    },
    {
      "cell_type": "code",
      "execution_count": null,
      "metadata": {
        "colab": {
          "base_uri": "https://localhost:8080/"
        },
        "id": "3xLWO2UQdEIX",
        "outputId": "4a914900-7b30-45fd-abc5-6a00e95bd601"
      },
      "outputs": [
        {
          "output_type": "stream",
          "name": "stdout",
          "text": [
            "{'20': 0.07765397294193106, '19': 0.060482391372443725, '0': 0.03727271371250429, '6': 0.01549797884876419, '15': 0.052021897048075055, '18': 0.12991154666547336, '24': 0.029018063573037396, '21': 0.011219999701675094, '2': 0.06276457690070256, '4': 0.03056636983338554, '8': 0.0029981653018302233, '12': 0.033227427991825896, '1': 0.023251443146731107, '23': 0.016843424173267105, '13': 0.051112006085828075, '17': 0.031174952640921228, '16': 0.015554660580838592, '25': 0.01626765710535344, '7': 0.019325487388314612, '9': 0.022881520263719216, '10': 0.015077340731790994, '3': 0.02712370042212974, '5': 0.0031294282603183125, '11': 0.03107650542205516, '22': 0.028913649856058234, '14': 0.15563312003102578}\n"
          ]
        }
      ],
      "source": [
        "print(dict1)"
      ]
    },
    {
      "cell_type": "markdown",
      "metadata": {
        "id": "DJXXSMulSzEI"
      },
      "source": [
        "Addressing the problems of creation of bins, initially taking it be bin size of 8. "
      ]
    },
    {
      "cell_type": "code",
      "execution_count": null,
      "metadata": {
        "id": "CKvIrywaTK7x"
      },
      "outputs": [],
      "source": [
        "bin_dict={}  #again using dictionary for associating "
      ]
    },
    {
      "cell_type": "code",
      "execution_count": null,
      "metadata": {
        "id": "Qexw_MYjSshB"
      },
      "outputs": [],
      "source": [
        "bin_size=8"
      ]
    },
    {
      "cell_type": "code",
      "execution_count": null,
      "metadata": {
        "id": "p7aOXGPJTRpQ"
      },
      "outputs": [],
      "source": [
        "key=0\n",
        "for i in range(0,256):\n",
        "  if 32*key<=i and i<32*(key+1):\n",
        "    bin_dict[i]=key\n",
        "  else:\n",
        "    bin_dict[i]=key+1 #because otherwise numbers such as 32,64 where if statements are not satisfied would never be added to dictionary.\n",
        "    key+=1\n",
        "#so we are creating a bin size of 8 i.e. all the pixels which were taking values between 0 to 255 will now be scaled down to take values between 0 to 7\n",
        "#so that means the scaling will take 32 numbers at a time to divide 256 over 8 parts, so numbers in range 0 to 31 will come to 0 then between 32 to 63 to 1 and so on... "
      ]
    },
    {
      "cell_type": "code",
      "execution_count": null,
      "metadata": {
        "colab": {
          "base_uri": "https://localhost:8080/"
        },
        "id": "J7Wr5yv9UfTO",
        "outputId": "6e560fdf-aac7-4f02-b550-144f27848754"
      },
      "outputs": [
        {
          "output_type": "stream",
          "name": "stdout",
          "text": [
            "{0: 0, 1: 0, 2: 0, 3: 0, 4: 0, 5: 0, 6: 0, 7: 0, 8: 0, 9: 0, 10: 0, 11: 0, 12: 0, 13: 0, 14: 0, 15: 0, 16: 0, 17: 0, 18: 0, 19: 0, 20: 0, 21: 0, 22: 0, 23: 0, 24: 0, 25: 0, 26: 0, 27: 0, 28: 0, 29: 0, 30: 0, 31: 0, 32: 1, 33: 1, 34: 1, 35: 1, 36: 1, 37: 1, 38: 1, 39: 1, 40: 1, 41: 1, 42: 1, 43: 1, 44: 1, 45: 1, 46: 1, 47: 1, 48: 1, 49: 1, 50: 1, 51: 1, 52: 1, 53: 1, 54: 1, 55: 1, 56: 1, 57: 1, 58: 1, 59: 1, 60: 1, 61: 1, 62: 1, 63: 1, 64: 2, 65: 2, 66: 2, 67: 2, 68: 2, 69: 2, 70: 2, 71: 2, 72: 2, 73: 2, 74: 2, 75: 2, 76: 2, 77: 2, 78: 2, 79: 2, 80: 2, 81: 2, 82: 2, 83: 2, 84: 2, 85: 2, 86: 2, 87: 2, 88: 2, 89: 2, 90: 2, 91: 2, 92: 2, 93: 2, 94: 2, 95: 2, 96: 3, 97: 3, 98: 3, 99: 3, 100: 3, 101: 3, 102: 3, 103: 3, 104: 3, 105: 3, 106: 3, 107: 3, 108: 3, 109: 3, 110: 3, 111: 3, 112: 3, 113: 3, 114: 3, 115: 3, 116: 3, 117: 3, 118: 3, 119: 3, 120: 3, 121: 3, 122: 3, 123: 3, 124: 3, 125: 3, 126: 3, 127: 3, 128: 4, 129: 4, 130: 4, 131: 4, 132: 4, 133: 4, 134: 4, 135: 4, 136: 4, 137: 4, 138: 4, 139: 4, 140: 4, 141: 4, 142: 4, 143: 4, 144: 4, 145: 4, 146: 4, 147: 4, 148: 4, 149: 4, 150: 4, 151: 4, 152: 4, 153: 4, 154: 4, 155: 4, 156: 4, 157: 4, 158: 4, 159: 4, 160: 5, 161: 5, 162: 5, 163: 5, 164: 5, 165: 5, 166: 5, 167: 5, 168: 5, 169: 5, 170: 5, 171: 5, 172: 5, 173: 5, 174: 5, 175: 5, 176: 5, 177: 5, 178: 5, 179: 5, 180: 5, 181: 5, 182: 5, 183: 5, 184: 5, 185: 5, 186: 5, 187: 5, 188: 5, 189: 5, 190: 5, 191: 5, 192: 6, 193: 6, 194: 6, 195: 6, 196: 6, 197: 6, 198: 6, 199: 6, 200: 6, 201: 6, 202: 6, 203: 6, 204: 6, 205: 6, 206: 6, 207: 6, 208: 6, 209: 6, 210: 6, 211: 6, 212: 6, 213: 6, 214: 6, 215: 6, 216: 6, 217: 6, 218: 6, 219: 6, 220: 6, 221: 6, 222: 6, 223: 6, 224: 7, 225: 7, 226: 7, 227: 7, 228: 7, 229: 7, 230: 7, 231: 7, 232: 7, 233: 7, 234: 7, 235: 7, 236: 7, 237: 7, 238: 7, 239: 7, 240: 7, 241: 7, 242: 7, 243: 7, 244: 7, 245: 7, 246: 7, 247: 7, 248: 7, 249: 7, 250: 7, 251: 7, 252: 7, 253: 7, 254: 7, 255: 7}\n"
          ]
        }
      ],
      "source": [
        "print(bin_dict)"
      ]
    },
    {
      "cell_type": "markdown",
      "metadata": {
        "id": "4YzqbptGXCsX"
      },
      "source": [
        "Now once we have done this we need to change all the data in our training set according to our bin size."
      ]
    },
    {
      "cell_type": "code",
      "execution_count": null,
      "metadata": {
        "colab": {
          "base_uri": "https://localhost:8080/"
        },
        "id": "UR_imyXZXMVm",
        "outputId": "fc486300-778e-49f5-d7da-c8c496c71824"
      },
      "outputs": [
        {
          "output_type": "stream",
          "name": "stdout",
          "text": [
            "785\n"
          ]
        }
      ],
      "source": [
        "#so in the train_data list each element is a list which has 785 entries where the first entry is the label and remaining 784 as pixels and we can verify that\n",
        "print(len(train_data[1]))"
      ]
    },
    {
      "cell_type": "code",
      "execution_count": null,
      "metadata": {
        "id": "uRYA77Y2YDjS"
      },
      "outputs": [],
      "source": [
        "#so to convert all 784 pixels according to our bin size, we will take all data by iterating through them and replace them with their corresponding value in the bin dictionary\n",
        "\n",
        "for i in train_data:\n",
        "  for j in range(1,785): #starting from index 1 as index 0 is label and we only need to change the pixel data\n",
        "    i[j]=bin_dict[int(i[j])]\n"
      ]
    },
    {
      "cell_type": "markdown",
      "metadata": {
        "id": "H6QL4BEDVTuw"
      },
      "source": [
        "Now we need to find P(Xi=Xit|Y=k) for all data points i.e. for all 784 pixels over all the data."
      ]
    },
    {
      "cell_type": "code",
      "execution_count": null,
      "metadata": {
        "id": "npUKvbeOWDuQ"
      },
      "outputs": [],
      "source": [
        "Xi_dict={}  \n",
        "#this dictionary would store the above values and the keys would be a tuple containing the values of Xi and k and i which is the label of pixel i.e. out of 0 to 784, so in this dictionary probability would be associated as key=(i,Xit,k) and value=P(Xi=Xit|Y=k)"
      ]
    },
    {
      "cell_type": "markdown",
      "metadata": {
        "id": "pG9IBQpeErTa"
      },
      "source": [
        "In this procedure for calculating the probability for each and every data point so it is 784 pixel points for almost 25000 rows, and each of this data point will be counted multiple times just to check how many times a particular value of a particular pixel point occurs to calculate probability, and infact searching for the value itself in the given list. So to reduce the iteration time we are converting the training data into a dictionary rather than a list. \n",
        "\n",
        "So how is this dictionary made, so dictionary has 26 keys which is from 0 to 25, which are labels that are given to each row. Now each label appears multiple times in the given data, and dictionary doesn't allow duplicates. So how will we store multiple data for the same label?\n",
        "\n",
        "Well for dealing with that we have a clever trick, we will make use of nested lists. Which value of each key is a list and this list contains elements which are also list. Now what is the data stored in this list so actually every time a label repeats in the training data it has 784 pixels associated with it. So the list inside the list contains the data of this 784 pixels and there are many lists inside this main lists as many times the label is repeated to store the data every time the label is repeated.\n",
        "\n",
        "So dictionary reduces this time because dictionary makes use of hash mapping so searching for a particular element in dictionary takes constant time which is much less than that of list."
      ]
    },
    {
      "cell_type": "code",
      "execution_count": null,
      "metadata": {
        "id": "HAmauF38ktiX"
      },
      "outputs": [],
      "source": [
        "train_data_dict={}\n",
        "for i in range(0,26):\n",
        "  list2=[]\n",
        "  for j in train_data:\n",
        "    if int(j[0])==i:\n",
        "      list1=[]\n",
        "      for k in range(1,785):\n",
        "        list1.append(j[k])\n",
        "      list2.append(list1)\n",
        "    else:\n",
        "      continue\n",
        "  train_data_dict[i]=list2"
      ]
    },
    {
      "cell_type": "code",
      "execution_count": null,
      "metadata": {
        "colab": {
          "base_uri": "https://localhost:8080/"
        },
        "id": "iO3rP1N489CP",
        "outputId": "63b3665b-bebe-47bc-8788-749eae9b4250"
      },
      "outputs": [
        {
          "output_type": "stream",
          "name": "stdout",
          "text": [
            "784\n"
          ]
        }
      ],
      "source": [
        "print(len(train_data_dict[0][0]))"
      ]
    },
    {
      "cell_type": "code",
      "execution_count": null,
      "metadata": {
        "id": "fyaOOenkYSsm"
      },
      "outputs": [],
      "source": [
        "\n",
        "#we also need to create a special counter function\n",
        "def counter(i,xi,k):    #i=>Which pixel I am talking about, Xi=>what is the value of the pixel, and for which Y=k\n",
        "  count=0\n",
        "  for j in train_data_dict[k]:\n",
        "    if int(j[i])==xi:\n",
        "      count+=1\n",
        "    else:\n",
        "      continue\n",
        "\n",
        "  return count\n"
      ]
    },
    {
      "cell_type": "code",
      "execution_count": null,
      "metadata": {
        "colab": {
          "base_uri": "https://localhost:8080/"
        },
        "id": "gsAZdXytSbfk",
        "outputId": "2b74d554-0bea-4a8e-d78c-6ebb97f28941"
      },
      "outputs": [
        {
          "output_type": "stream",
          "name": "stdout",
          "text": [
            "12494\n"
          ]
        }
      ],
      "source": [
        "print(counter(0,0,0))"
      ]
    },
    {
      "cell_type": "code",
      "execution_count": null,
      "metadata": {
        "id": "yZMeEINYPd8_"
      },
      "outputs": [],
      "source": [
        "#And also a probability function to calculate to calculate P(xi=Xit|Y=k)\n",
        "\n",
        "def probability(i,xi,k):     #i=>Which pixel I am talking about, Xi=>what is the value of the pixel, and for which Y=k\n",
        "\n",
        "  if xi>7 or xi<0: \n",
        "      print(\"Enter a valid pixel value\")\n",
        "      return \n",
        "  if k>25 or k<0:\n",
        "      print(\"Enter a valid label\")\n",
        "      return\n",
        "    \n",
        "  else:   #Calculating using the formula P(Xit=Xi|Y=k)=P(Xit=Xi and Y=k)/P(Y=k)\n",
        "    prob1=(counter(i,xi,k)+1)/((dict1_counter[str(k)])) #calculating P(Y=k and Xit=Xi)\n",
        "    # prob=prob1/float(dict1[str(k)])\n",
        "    return prob1"
      ]
    },
    {
      "cell_type": "code",
      "execution_count": null,
      "metadata": {
        "colab": {
          "base_uri": "https://localhost:8080/"
        },
        "id": "zv7MIZfS9_Bi",
        "outputId": "5f25907c-6f3b-4f2b-c04e-668af86798a9"
      },
      "outputs": [
        {
          "output_type": "stream",
          "name": "stdout",
          "text": [
            "8.003841844085161e-05\n"
          ]
        }
      ],
      "source": [
        "print(probability(0,7,0))"
      ]
    },
    {
      "cell_type": "markdown",
      "metadata": {
        "id": "uMwsJ69fHKrK"
      },
      "source": [
        "Now our first instinct is to calculate the probability of all possible value of each data point such as \n",
        "\n",
        "for k in range(0,26):\n",
        "  for j in train_data_dict[k]:\n",
        "    for i in range(0,784):\n",
        "      Xi_dict[(j[i],k)]=probability(i,j[i],k)\n",
        "\n",
        "So what is our idea here is that we go to each value of each pixel and calculate how many times the same value for the same pixel corresponding to the same label. And we do it for each of the 26 label for each of the 784 pixels and for each row in the data (which are about 25000), so overall 26 x 784 x 25000, one might think this manageable but we are missing out on a point, the probability function calls couter functions which again iterates through entire data. \n",
        "So it is actually 26x784x25000x25000 iterations which can't be completed in given possible time constraints.\n",
        "\n",
        "So how to reduce this?"
      ]
    },
    {
      "cell_type": "code",
      "execution_count": null,
      "metadata": {
        "id": "merfyzE4W1mu"
      },
      "outputs": [],
      "source": [
        "for k in range(0,26):\n",
        "    for i in range(0,784):\n",
        "      for j in range(0,bin_size):\n",
        "        Xi_dict[(i,j,k)]=probability(i,j,k)"
      ]
    },
    {
      "cell_type": "code",
      "source": [
        "print(Xi_dict)"
      ],
      "metadata": {
        "colab": {
          "base_uri": "https://localhost:8080/"
        },
        "id": "3AJmNN5LmioG",
        "outputId": "0bcc8dd5-0ed8-488c-92c3-a0501238bdb1"
      },
      "execution_count": null,
      "outputs": [
        {
          "output_type": "stream",
          "name": "stderr",
          "text": [
            "IOPub data rate exceeded.\n",
            "The notebook server will temporarily stop sending output\n",
            "to the client in order to avoid crashing it.\n",
            "To change this limit, set the config variable\n",
            "`--NotebookApp.iopub_data_rate_limit`.\n",
            "\n",
            "Current values:\n",
            "NotebookApp.iopub_data_rate_limit=1000000.0 (bytes/sec)\n",
            "NotebookApp.rate_limit_window=3.0 (secs)\n",
            "\n"
          ]
        }
      ]
    },
    {
      "cell_type": "markdown",
      "metadata": {
        "id": "KuhBSm9aJXZe"
      },
      "source": [
        "Above is the solution we came up with, so we know that in the probability function the entire data will be scanned given the label, value of pixel and pixel number. SO we don't need to iterate through the entire data again in our loops, instead what we do is something much more clever.\n",
        "\n",
        "We know each pixel can take values between 0 to bin_size-1. So instead of iterating through the whole data manually, going to each pixel point then seeing which value it takes then calculating the probability for that value. What we do is that we calculate the porbability of each possible value of each pixel point. \n",
        "\n",
        "So instead of getting the value by iterating for whole data, we are giving it all possible values to each and every data point. \n",
        "Which reduce number of iterations to 26 x 784 x 8 x 25000.\n",
        "\n",
        "And we are sure that all pixel points will be covered in the data by the first two loops. Because fofr given label and pixel number our counter function will iterate through all rows for counting the corresponding. \n",
        "\n",
        "So just manually giving the value decreases number of iterations significantly."
      ]
    },
    {
      "cell_type": "code",
      "execution_count": null,
      "metadata": {
        "colab": {
          "base_uri": "https://localhost:8080/"
        },
        "id": "dbWJaOPNd5Cc",
        "outputId": "334e37de-2090-4412-a76e-c76ee571ceb5"
      },
      "outputs": [
        {
          "output_type": "stream",
          "name": "stdout",
          "text": [
            "0.04622368964094098\n"
          ]
        }
      ],
      "source": [
        "print(Xi_dict[(200,6,22)])"
      ]
    },
    {
      "cell_type": "code",
      "source": [
        "s=0\n",
        "for i in range(0,784):\n",
        "  for k in range(0,bin_size):\n",
        "    s=s=Xi_dict[(i,k,2)]\n",
        "print(s)"
      ],
      "metadata": {
        "colab": {
          "base_uri": "https://localhost:8080/"
        },
        "id": "jVmMDMp136gd",
        "outputId": "f948b7b5-0e5e-4419-b86f-1a23c929c41d"
      },
      "execution_count": null,
      "outputs": [
        {
          "output_type": "stream",
          "name": "stdout",
          "text": [
            "4.753077617757498e-05\n"
          ]
        }
      ]
    },
    {
      "cell_type": "markdown",
      "metadata": {
        "id": "679T8qxaTCvg"
      },
      "source": [
        "Predicting the data"
      ]
    },
    {
      "cell_type": "code",
      "execution_count": null,
      "metadata": {
        "id": "pkLYZY8uUviZ"
      },
      "outputs": [],
      "source": [
        "import math"
      ]
    },
    {
      "cell_type": "markdown",
      "metadata": {
        "id": "X1uqWR_DOYv1"
      },
      "source": [
        "So smoothing process, involves dealing with mathematical domain error which is that the probability for some labels probability of pixel attaining some values is 0 and therefore while taking log (which turns amll number into large number to make comparisons easier ) or by dividing we are getting division by 0. \n",
        "\n",
        "So what we do is that we add 1 in the numerator and proportionaly the bin_size in the denominator. Why is bin_size proportional to 1? Well in numerator we are finding data wrt single label, and we are adding 1 to make it non zero, but then in denominator we are taking total probability of same data over all label, so each label will have a corresponding 1 added to it, to make the assumpltion hold, and since it is total probability in the denominator therefore all labels will be added, there for 1 will be added as many times as the total number of labels which is nothing but bin_size.\n",
        "\n",
        "Now what is the need of log in the numerator, well our number would be too small in both numerator and denominator to lead any significant result there it is important. \n",
        "\n",
        "Also why are we adding math.log term, whereas we can mutiply whole probability and do log in end, and by properties of log it will lead the same thing at the end, well that is where the complication arise. In multiplication even when 0 is encountered a single time it will make the whole term 0 and so we won't get any significant result, but in addition this problem this should have been resolved, as even when even a single one is 0 then also whole term won't be affected. Well, yeah but that leads to another issue, i.e. now log will get input as 0. So a jugaad logic to deal with this is that we add 1 to each probability value, which is not mathematically valid, but it gives us answers with very low accuracy. So we need to find something to avoid this on it's whole."
      ]
    },
    {
      "cell_type": "code",
      "execution_count": null,
      "metadata": {
        "id": "7Au0ahJbTFcS"
      },
      "outputs": [],
      "source": [
        "def probability_func(x,k):\n",
        "  prob=math.log(float(dict1[str(k)]))\n",
        "  for i in range(0,784):\n",
        "    prob=prob+math.log(float(Xi_dict[((i),int(x[i]),k)]))\n",
        "\n",
        "  # prob3=0\n",
        "  # for j in range(0,26):\n",
        "  #   prob2=math.log(float(dict1[str(j)]))\n",
        "  #   for i in range(0,784):\n",
        "  #     prob2=prob2+math.log(float(Xi_dict[((i),int(x[i]),j)])+1)\n",
        "  #   prob3=prob3+prob2\n",
        "\n",
        "  return prob"
      ]
    },
    {
      "cell_type": "markdown",
      "source": [
        "The denominator for all the terms is fixed and therefore there is no need to include it in the final answer.\n",
        "\n",
        "So the earlier issue with smoothing was that, when we were mutliplying the terms in the numerator directly, then even if one of the pixel had probability as zero for corresponding label and pixel value (which obviously be true for some pixel in each rwo of data for a particular value and particular label) then the whole product goes to 0.\n",
        "\n",
        "Then we tried taking the log and converting multiplication to addition, but then the log was getting 0 as input and that was wrong too. So we addded one in each probability value at this statement \n",
        "\n",
        "prob=prob+math.log(float(Xi_dict[((i),int(x[i]),k)] +1))\n",
        "\n",
        "But that didn't help with the accuracy either because its mathematically incorrect, because adding 1 to a smaller than 1 number increases the error significantly. \n",
        "\n",
        "So what we tried to do is that instead of adding 1 here, we added one to the value given by the counter(i,j,k) function before calculating its probability in the probability function used for Xi_dict. So adding 1 here was useful because here even if counter is 0 adding 1 will make the probability non-zero. \n",
        "\n",
        "And since denominator, after division the error would be negligible. \n",
        "\n",
        "So this is the solution to the error. "
      ],
      "metadata": {
        "id": "w8M3M10XbuJa"
      }
    },
    {
      "cell_type": "code",
      "execution_count": null,
      "metadata": {
        "id": "xUOGZxeoVxiU"
      },
      "outputs": [],
      "source": [
        "def index(y,sample_list):\n",
        "  for i in range(0,len(sample_list)):\n",
        "    if sample_list[i]==y:\n",
        "      return i"
      ]
    },
    {
      "cell_type": "code",
      "execution_count": null,
      "metadata": {
        "id": "rI3BEpRQUHHr"
      },
      "outputs": [],
      "source": [
        "def predict(data):\n",
        "  list1=[]\n",
        "  for i in range(0,26):\n",
        "    list1.append(probability_func(data,i))\n",
        "  return index(max(list1),list1)\n"
      ]
    },
    {
      "cell_type": "code",
      "execution_count": null,
      "metadata": {
        "id": "_Sc0bPB2W4ss"
      },
      "outputs": [],
      "source": [
        "#so to convert all 784 pixels according to our bin size, we will take all data by iterating through them and replace them with their corresponding value in the bin dictionary\n",
        "\n",
        "for i in test_data:\n",
        "  for j in range(1,785): #starting from index 1 as index 0 is label and we only need to change the pixel data\n",
        "    i[j]=bin_dict[int(i[j])]"
      ]
    },
    {
      "cell_type": "code",
      "execution_count": null,
      "metadata": {
        "id": "k5VsJ3-djhVc"
      },
      "outputs": [],
      "source": [
        "test_data_dict={}\n",
        "for i in range(0,26):\n",
        "  list2=[]\n",
        "  for j in test_data:\n",
        "    if int(j[0])==i:\n",
        "      list1=[]\n",
        "      for k in range(1,785):\n",
        "        list1.append(j[k])\n",
        "      list2.append(list1)\n",
        "    else:\n",
        "      continue\n",
        "  test_data_dict[i]=list2"
      ]
    },
    {
      "cell_type": "markdown",
      "metadata": {
        "id": "nN__Af3TT7ze"
      },
      "source": [
        "So now we can see that if we don't do smoothing then we are getting division by 0."
      ]
    },
    {
      "cell_type": "code",
      "execution_count": null,
      "metadata": {
        "id": "iuuEV62nrKBP"
      },
      "outputs": [],
      "source": [
        "\n",
        "# count=0\n",
        "# for k in range(0,26):\n",
        "#   for i in test_data_dict[k]:\n",
        "#     if(predict(i))==k:\n",
        "#       count+=1\n",
        "#     else:\n",
        "#       continue\n",
        "# print(count/len(test_data))\n"
      ]
    },
    {
      "cell_type": "code",
      "source": [
        "# accuracy=(count/len(test_data))*100\n",
        "# print(\"Accuracy=%s percent\"%accuracy)"
      ],
      "metadata": {
        "id": "m3LPENI4HhMz"
      },
      "execution_count": null,
      "outputs": []
    },
    {
      "cell_type": "markdown",
      "source": [
        "Now once we have trained our machine also tested the data, let's begin to take input and detect the handwriting. But first we need to take a data which will be used to resize it to the size with which our algorithm can function. We can later optimize it, but for a really large value it won't work unless we drastically increase the running time. \n"
      ],
      "metadata": {
        "id": "y_zCcJjPZcC_"
      }
    },
    {
      "cell_type": "markdown",
      "source": [
        "Started reading the image converting it to black and white and storing pixel value for reading data but for some reason all values are turning out be around 255 which is an issue. Will look into it soon."
      ],
      "metadata": {
        "id": "tirzgml7-KmE"
      }
    },
    {
      "cell_type": "code",
      "source": [
        "from PIL import Image\n",
        "import os"
      ],
      "metadata": {
        "id": "CXEIUA7RZlJa"
      },
      "execution_count": null,
      "outputs": []
    },
    {
      "cell_type": "code",
      "source": [
        "def resize(img_path):\n",
        "  image=Image.open('%s'%img_path)\n",
        "  new_image=image.resize((28,28))\n",
        "  new_image.save('resized_img.png')\n",
        "  return os.path.abspath('resized_img.png')"
      ],
      "metadata": {
        "id": "RfEMJKq0aJ3n"
      },
      "execution_count": null,
      "outputs": []
    },
    {
      "cell_type": "code",
      "source": [
        "print(resize(r'Screenshot_1.png'))"
      ],
      "metadata": {
        "colab": {
          "base_uri": "https://localhost:8080/"
        },
        "id": "BW5yvYh4ujid",
        "outputId": "8f71483e-0e68-4c97-974c-d072672beb21"
      },
      "execution_count": null,
      "outputs": [
        {
          "output_type": "stream",
          "name": "stdout",
          "text": [
            "/content/drive/MyDrive/resized_img.png\n"
          ]
        }
      ]
    },
    {
      "cell_type": "code",
      "source": [
        "import cv2"
      ],
      "metadata": {
        "id": "xg3hnwQE0dzL"
      },
      "execution_count": null,
      "outputs": []
    },
    {
      "cell_type": "code",
      "source": [
        "def image_processing(pth):\n",
        "  data=[]\n",
        "  final_pth=resize(pth)\n",
        "  img_rgb = cv2.imread('%s'%final_pth)\n",
        "  img_gray = cv2.cvtColor(img_rgb, cv2.COLOR_BGR2GRAY)\n",
        "  for i in range(0,28):\n",
        "    for j in range(0,28):\n",
        "      data.append(img_gray[i][j])\n",
        "\n",
        "  for i in range(0,len(data)):\n",
        "     data[i]=bin_dict[data[i]]\n",
        "\n",
        "  x=predict(data)\n",
        "  return x\n",
        "\n",
        "\n",
        "\n",
        "  "
      ],
      "metadata": {
        "id": "QnBs0E8vbDw1"
      },
      "execution_count": null,
      "outputs": []
    },
    {
      "cell_type": "code",
      "source": [
        "alphabet_dict={0:'A',1:'B',2:'C',3:'D',4:'E',5:'F',6:'G',7:'H',8:'I',9:'J',10:'K',11:'L',12:'M',13:'N',14:'O',15:'P',16:'Q',17:'R',18:'S',19:'T',20:'U',21:'V',22:'W',23:'X',24:'Y',25:'Z'}"
      ],
      "metadata": {
        "id": "pG-byAwP967U"
      },
      "execution_count": null,
      "outputs": []
    },
    {
      "cell_type": "code",
      "source": [
        "print(alphabet_dict[image_processing('Screenshot_7.png')])"
      ],
      "metadata": {
        "id": "2f4DdRzO5W5i",
        "colab": {
          "base_uri": "https://localhost:8080/"
        },
        "outputId": "f688fb62-da5d-4282-a1b4-8eae40bd2f28"
      },
      "execution_count": null,
      "outputs": [
        {
          "output_type": "stream",
          "name": "stdout",
          "text": [
            "H\n"
          ]
        }
      ]
    }
  ],
  "metadata": {
    "colab": {
      "toc_visible": true,
      "provenance": []
    },
    "kernelspec": {
      "display_name": "Python 3",
      "name": "python3"
    },
    "language_info": {
      "name": "python"
    }
  },
  "nbformat": 4,
  "nbformat_minor": 0
}